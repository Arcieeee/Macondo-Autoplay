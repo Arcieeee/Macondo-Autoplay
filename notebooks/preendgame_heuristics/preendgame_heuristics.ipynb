{
 "cells": [
  {
   "cell_type": "markdown",
   "metadata": {},
   "source": [
    "#### Background\n",
    "This notebook seeks to quantify the value of leaving a certain number of tiles in the bag during the pre-endgame based on a repository of games. We will then implement these values as a pre-endgame heuristic in the Macondo speedy player to improve simulation quality.\n",
    "\n",
    "Initial questions:\n",
    "1. What is the probability that you will go out first if you make a play leaving N tiles in the bag?\n",
    "2. (slightly harder) What is the expected improvement in end-of-game spread after making a play that leaves N tiles in the bag?\n",
    "\n",
    "#### Implementation details\n",
    "We'll need to make several passes through the log file to obtain the following:\n",
    "* Final spread of each simulated game\n",
    "* Delta between pre-endgame and final spread\n",
    "\n",
    "#### Assumptions\n",
    "* We're only analyzing complete games\n",
    "* The last two rows in the log file for a given game ID are also the last two turns of the game\n",
    "\n",
    "#### Next steps\n",
    "* Standardize sign convention for spread.\n",
    "* Start figuring out how to calculate pre-endgame spread"
   ]
  },
  {
   "cell_type": "code",
   "execution_count": 1,
   "metadata": {},
   "outputs": [],
   "source": [
    "import csv\n",
    "import pandas as pd\n",
    "\n",
    "log_folder = '../logs/'\n",
    "log_file = log_folder + 'log_20200411_short.csv'"
   ]
  },
  {
   "cell_type": "code",
   "execution_count": 2,
   "metadata": {},
   "outputs": [],
   "source": [
    "second_to_last_move_dict = {}\n",
    "last_move_dict = {}\n",
    "spread_dict = {}\n",
    "p1_minus_p2_spread_dict = {}"
   ]
  },
  {
   "cell_type": "code",
   "execution_count": 3,
   "metadata": {},
   "outputs": [],
   "source": [
    "n=10000000\n",
    "\n",
    "with open(log_file,'r') as f:\n",
    "    moveReader = csv.reader(f)\n",
    "    next(moveReader)\n",
    "    \n",
    "    for i,row in enumerate(moveReader):\n",
    "        if i<n:\n",
    "            if row[1] in last_move_dict.keys():\n",
    "                second_to_last_move_dict[row[1]] = last_move_dict[row[1]]\n",
    "            last_move_dict[row[1]] = row\n",
    "        \n",
    "        if i==n:\n",
    "            break"
   ]
  },
  {
   "cell_type": "code",
   "execution_count": 4,
   "metadata": {},
   "outputs": [
    {
     "name": "stdout",
     "output_type": "stream",
     "text": [
      "Analyzing 438887 games, player 1 went out first 50.09307634994885% of the time\n"
     ]
    }
   ],
   "source": [
    "# whoever made the final move went out first\n",
    "went_out_first_dict = {game_id:last_move_dict[game_id][0] for game_id in last_move_dict.keys()}\n",
    "\n",
    "# good sanity check - player 1 should go out a bit more often\n",
    "print('Analyzing {} games, player 1 went out first {}% of the time'.format(\n",
    "    len(went_out_first_dict),\n",
    "    100*pd.Series(went_out_first_dict).value_counts(normalize=True)[0]))"
   ]
  },
  {
   "cell_type": "code",
   "execution_count": 5,
   "metadata": {},
   "outputs": [],
   "source": [
    "for game_id in last_move_dict.keys():\n",
    "    spread_dict[game_id] = int(last_move_dict[game_id][6])-int(second_to_last_move_dict[game_id][6])\n",
    "    p1_minus_p2_spread_dict[game_id] = (int(last_move_dict[game_id][6])-int(second_to_last_move_dict[game_id][6]))*\\\n",
    "        -(int(last_move_dict[game_id][0])-int(second_to_last_move_dict[game_id][0]))"
   ]
  },
  {
   "cell_type": "code",
   "execution_count": 6,
   "metadata": {},
   "outputs": [
    {
     "name": "stdout",
     "output_type": "stream",
     "text": [
      "The person who went out first won by an average of 17.206246710428882 points\n",
      "Player 1 won by an average of 13.565596611428454 points\n"
     ]
    }
   ],
   "source": [
    "print('The person who went out first won by an average of {} points'.format(pd.Series(spread_dict).mean()))\n",
    "print('Player 1 won by an average of {} points'.format(pd.Series(p1_minus_p2_spread_dict).mean()))"
   ]
  },
  {
   "cell_type": "code",
   "execution_count": null,
   "metadata": {},
   "outputs": [],
   "source": []
  },
  {
   "cell_type": "code",
   "execution_count": null,
   "metadata": {},
   "outputs": [],
   "source": []
  }
 ],
 "metadata": {
  "kernelspec": {
   "display_name": "Python 3",
   "language": "python",
   "name": "python3"
  },
  "language_info": {
   "codemirror_mode": {
    "name": "ipython",
    "version": 3
   },
   "file_extension": ".py",
   "mimetype": "text/x-python",
   "name": "python",
   "nbconvert_exporter": "python",
   "pygments_lexer": "ipython3",
   "version": "3.7.4"
  }
 },
 "nbformat": 4,
 "nbformat_minor": 4
}
