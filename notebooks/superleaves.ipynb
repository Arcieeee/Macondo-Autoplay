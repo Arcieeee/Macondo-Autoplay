{
 "cells": [
  {
   "cell_type": "code",
   "execution_count": 1,
   "metadata": {
    "collapsed": true
   },
   "outputs": [],
   "source": [
    "from itertools import combinations\n",
    "import numpy as np\n",
    "import pandas as pd\n",
    "import seaborn as sns\n",
    "from string import ascii_uppercase\n",
    "import time as time\n",
    "\n",
    "%matplotlib inline"
   ]
  },
  {
   "cell_type": "markdown",
   "metadata": {},
   "source": [
    "Create a dictionary of all possible 1 to 6-tile leaves"
   ]
  },
  {
   "cell_type": "code",
   "execution_count": 2,
   "metadata": {
    "collapsed": true
   },
   "outputs": [],
   "source": [
    "tilebag = ['A']*9+['B']*2+['C']*2+['D']*4+['E']*12+\\\n",
    "          ['F']*2+['G']*3+['H']*2+['I']*9+['J']*1+\\\n",
    "          ['K']*1+['L']*4+['M']*2+['N']*6+['O']*8+\\\n",
    "          ['P']*2+['Q']*1+['R']*6+['S']*4+['T']*6+\\\n",
    "          ['U']*4+['V']*2+['W']*2+['X']*1+['Y']*2+\\\n",
    "          ['Z']*1+['?']*2\n",
    "            \n",
    "# leaves_1 = ascii_uppercase + '?'\n",
    "# leaves_2 = sorted(list(set(list(combinations(tilebag,2)))))\n",
    "# leaves_2 = [x[0]+x[1] for x in leaves_2]"
   ]
  },
  {
   "cell_type": "code",
   "execution_count": 3,
   "metadata": {},
   "outputs": [
    {
     "name": "stdout",
     "output_type": "stream",
     "text": [
      "Calculated superleaves up to length 5 in 19.01953411102295 seconds\n"
     ]
    }
   ],
   "source": [
    "t0 = time.time()\n",
    "\n",
    "maximum_superleave_length = 5\n",
    "leaves = {i:sorted(list(set(list(combinations(tilebag,i))))) for i in \n",
    "          range(1,maximum_superleave_length+1)}\n",
    "\n",
    "for i in range(1,maximum_superleave_length+1):\n",
    "    leaves[i] = [''.join(leave) for leave in leaves[i]]\n",
    "    \n",
    "t1 = time.time()\n",
    "print('Calculated superleaves up to length {} in {} seconds'.format(\n",
    "    maximum_superleave_length,t1-t0))"
   ]
  },
  {
   "cell_type": "markdown",
   "metadata": {},
   "source": [
    "The bottom creates the full set of leaves for all lengths from 1-5 (6 breaks on my local machine)"
   ]
  },
  {
   "cell_type": "code",
   "execution_count": 4,
   "metadata": {},
   "outputs": [
    {
     "name": "stdout",
     "output_type": "stream",
     "text": [
      "1 27\n",
      "2 373\n",
      "3 3509\n",
      "4 25254\n",
      "5 148150\n"
     ]
    }
   ],
   "source": [
    "for i in range(1,6):\n",
    "    print(i,len(leaves[i]))"
   ]
  },
  {
   "cell_type": "code",
   "execution_count": 5,
   "metadata": {
    "collapsed": true
   },
   "outputs": [],
   "source": [
    "column_dict = {\n",
    "    0:'rack',\n",
    "    1:'score',\n",
    "    2:'tiles_remaining'\n",
    "}\n",
    "df = pd.read_csv('log_games.csv', header=None, keep_default_na=False)\n",
    "df.rename(columns=column_dict,inplace=True)"
   ]
  },
  {
   "cell_type": "code",
   "execution_count": 6,
   "metadata": {
    "collapsed": true
   },
   "outputs": [],
   "source": [
    "tile_limit = 1\n",
    "df = df.loc[df['tiles_remaining']>=tile_limit]"
   ]
  },
  {
   "cell_type": "markdown",
   "metadata": {},
   "source": [
    "Alphabetize rack"
   ]
  },
  {
   "cell_type": "code",
   "execution_count": 7,
   "metadata": {
    "collapsed": true
   },
   "outputs": [],
   "source": [
    "df['rack'] = df['rack'].apply(lambda x: ''.join(sorted(x)))"
   ]
  },
  {
   "cell_type": "markdown",
   "metadata": {},
   "source": [
    "Create flag of whether each letter is contained in a rack, and also check for multiples"
   ]
  },
  {
   "cell_type": "code",
   "execution_count": 10,
   "metadata": {},
   "outputs": [
    {
     "name": "stdout",
     "output_type": "stream",
     "text": [
      "Added columns for all duplicates up to length 1 in 135.2876591682434 seconds\n",
      "Added columns for all duplicates up to length 2 in 124.7717490196228 seconds\n",
      "Added columns for all duplicates up to length 3 in 69.06989097595215 seconds\n",
      "Added columns for all duplicates up to length 4 in 63.6707079410553 seconds\n",
      "Added columns for all duplicates up to length 5 in 40.63369703292847 seconds\n"
     ]
    }
   ],
   "source": [
    "for multiple in range(1,6):\n",
    "    t0 = time.time()\n",
    "\n",
    "    # iterate through all 27 tiles\n",
    "    for c in leaves[1]:\n",
    "\n",
    "        if multiple*c in leaves[multiple]:\n",
    "            df[multiple*c] = df['rack'].apply(lambda x: multiple*c in x)\n",
    "            \n",
    "    t1 = time.time()\n",
    "    print('Added columns for all duplicates up to length {} in {} seconds'.format(multiple,t1-t0))"
   ]
  },
  {
   "cell_type": "code",
   "execution_count": 11,
   "metadata": {
    "collapsed": true
   },
   "outputs": [],
   "source": [
    "# following variable indicates what length of superleave we try to calculate up to.\n",
    "# WARNING: might break for now if you try to do too long.\n",
    "ev_calculator_max_length = 3"
   ]
  },
  {
   "cell_type": "code",
   "execution_count": 12,
   "metadata": {
    "collapsed": true
   },
   "outputs": [],
   "source": [
    "all_leaves = []\n",
    "\n",
    "for i in range(1,ev_calculator_max_length+1):\n",
    "    all_leaves += leaves[i]\n",
    "\n",
    "ev_df = pd.DataFrame(columns=['mean','std','count','ev','synergy'],\n",
    "                     index=all_leaves)"
   ]
  },
  {
   "cell_type": "markdown",
   "metadata": {},
   "source": [
    "To find all of the racks corresponding to a particular leave, we have added columns to the dataframe of plays df marking each letter (A, B, C...) and also for duplicates (AA, BB, CC...) and triplicates where possible (AAA, DDD, EEE...).\n",
    "\n",
    "If the letters in a given leave are all different, we can look for rows by using df['A']&df['B']. However, if there are duplicates involved, we have to look for df['AA']. The following function gives the correct dataframe columns to be looked up."
   ]
  },
  {
   "cell_type": "code",
   "execution_count": null,
   "metadata": {},
   "outputs": [],
   "source": [
    "def get_columns(leave):\n",
    "    letters=list(set(leave))\n",
    "    tags = []\n",
    "    \n",
    "    for l in letters:\n",
    "        tags += [sum([l==letter for letter in leave])*l]\n",
    "    \n",
    "    return tags"
   ]
  },
  {
   "cell_type": "code",
   "execution_count": null,
   "metadata": {},
   "outputs": [
    {
     "name": "stdout",
     "output_type": "stream",
     "text": [
      "1\n",
      "Calculated mean, std and count in 67.57009387016296 seconds\n",
      "2\n"
     ]
    }
   ],
   "source": [
    "for leave_length in range(1,ev_calculator_max_length+1):\n",
    "    print(leave_length)\n",
    "    t0 = time.time()\n",
    "    \n",
    "    for leave in leaves[leave_length]:\n",
    "        condition = df[get_columns(leave)].all(axis=1)\n",
    "        ev_df.loc[leave]['mean'] = df.loc[condition]['score'].mean()\n",
    "        ev_df.loc[leave]['std'] = df.loc[condition]['score'].std()\n",
    "        ev_df.loc[leave]['count'] = len(df.loc[condition])\n",
    "        \n",
    "    t1 = time.time()\n",
    "    print('Calculated mean, std and count in {} seconds'.format(t1-t0))"
   ]
  },
  {
   "cell_type": "code",
   "execution_count": null,
   "metadata": {
    "collapsed": true
   },
   "outputs": [],
   "source": [
    "ev_df['pct'] = 100*ev_df['count']/len(df)\n",
    "ev_df['ev'] = ev_df['mean']-df['score'].mean()"
   ]
  },
  {
   "cell_type": "markdown",
   "metadata": {},
   "source": [
    "Calculate leave \"synergy\", in other words the difference between the EV of the rack and what we'd expect just from adding the individual values of the tiles"
   ]
  },
  {
   "cell_type": "code",
   "execution_count": null,
   "metadata": {},
   "outputs": [],
   "source": [
    "for leave_length in range(2,ev_calculator_max_length+1):\n",
    "    for leave in leaves[leave_length]:\n",
    "        ev_df.loc[leave]['synergy'] = ev_df.loc[leave]['ev']-\\\n",
    "                                      sum([ev_df.loc[c]['ev'] for c in leave])"
   ]
  },
  {
   "cell_type": "code",
   "execution_count": null,
   "metadata": {},
   "outputs": [],
   "source": [
    "ev_df"
   ]
  },
  {
   "cell_type": "code",
   "execution_count": null,
   "metadata": {
    "collapsed": true
   },
   "outputs": [],
   "source": [
    "ev_df.to_csv('leave_values_010619_v3.csv')"
   ]
  },
  {
   "cell_type": "code",
   "execution_count": null,
   "metadata": {
    "collapsed": true
   },
   "outputs": [],
   "source": []
  }
 ],
 "metadata": {
  "kernelspec": {
   "display_name": "Python 3",
   "language": "python",
   "name": "python3"
  },
  "language_info": {
   "codemirror_mode": {
    "name": "ipython",
    "version": 3
   },
   "file_extension": ".py",
   "mimetype": "text/x-python",
   "name": "python",
   "nbconvert_exporter": "python",
   "pygments_lexer": "ipython3",
   "version": "3.6.0"
  }
 },
 "nbformat": 4,
 "nbformat_minor": 2
}
