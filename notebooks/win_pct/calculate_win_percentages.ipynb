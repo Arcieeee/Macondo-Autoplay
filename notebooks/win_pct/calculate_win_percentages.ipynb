{
 "cells": [
  {
   "cell_type": "code",
   "execution_count": null,
   "metadata": {},
   "outputs": [],
   "source": [
    "# Created during May 25 HACKATHON by JD\n",
    "\n",
    "# Calculates win percentage depending on "
   ]
  },
  {
   "cell_type": "code",
   "execution_count": 1,
   "metadata": {},
   "outputs": [],
   "source": [
    "from copy import deepcopy\n",
    "import csv\n",
    "from datetime import date\n",
    "import numpy as np\n",
    "import pandas as pd\n",
    "import seaborn as sns\n",
    "import time\n",
    "\n",
    "log_folder = '../logs/'\n",
    "log_file = log_folder + 'log_20200515_preendgames.csv'\n",
    "\n",
    "todays_date = date.today().strftime(\"%Y%m%d\")"
   ]
  },
  {
   "cell_type": "code",
   "execution_count": null,
   "metadata": {},
   "outputs": [],
   "source": [
    "win_dict = {}\n",
    "\n",
    "t0 = time.time()\n",
    "\n",
    "with open(log_file,'r') as f:\n",
    "    moveReader = csv.reader(f)\n",
    "    next(moveReader)\n",
    "    \n",
    "    for i,row in enumerate(moveReader):\n",
    "        if (i+1)%1000000==0:\n",
    "            print('Processed {} rows in {} seconds'.format(i+1, time.time()-t0))\n",
    "            \n",
    "        if i<10:\n",
    "            print(row)\n",
    "            \n",
    "        if row[0]=='p1':\n",
    "            final_spread_dict[row[1]] = int(row[6])-int(row[11])\n",
    "        else:\n",
    "            final_spread_dict[row[1]] = int(row[11])-int(row[6])\n",
    "                    \n",
    "        # This flag indicates whether p1 won or not, with 0.5 as the value if the game was tied.\n",
    "        win_dict[row[1]] = (np.sign(final_spread_dict[row[1]])+1)/2"
   ]
  },
  {
   "cell_type": "code",
   "execution_count": null,
   "metadata": {},
   "outputs": [],
   "source": [
    "counter_dict = {x:{y:0 for y in range(x-7,x+1)} for x in preendgame_tile_range}\n",
    "\n",
    "end_of_turn_spread_counter_dict = deepcopy(counter_dict)\n",
    "equity_counter_dict = deepcopy(counter_dict)\n",
    "final_spread_counter_dict = deepcopy(counter_dict)\n",
    "game_counter_dict = deepcopy(counter_dict)\n",
    "out_first_counter_dict = deepcopy(counter_dict)\n",
    "win_counter_dict = deepcopy(counter_dict)"
   ]
  }
 ],
 "metadata": {
  "kernelspec": {
   "display_name": "Python 3",
   "language": "python",
   "name": "python3"
  },
  "language_info": {
   "codemirror_mode": {
    "name": "ipython",
    "version": 3
   },
   "file_extension": ".py",
   "mimetype": "text/x-python",
   "name": "python",
   "nbconvert_exporter": "python",
   "pygments_lexer": "ipython3",
   "version": "3.7.4"
  }
 },
 "nbformat": 4,
 "nbformat_minor": 4
}
