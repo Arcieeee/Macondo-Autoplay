{
 "cells": [
  {
   "cell_type": "code",
   "execution_count": 1,
   "metadata": {},
   "outputs": [],
   "source": [
    "# Created during May 25 HACKATHON by JD\n",
    "\n",
    "# Calculates win percentage given on game score for both players."
   ]
  },
  {
   "cell_type": "code",
   "execution_count": 2,
   "metadata": {},
   "outputs": [],
   "source": [
    "from copy import deepcopy\n",
    "import csv\n",
    "from datetime import date\n",
    "import matplotlib.pyplot as plt\n",
    "import numpy as np\n",
    "import pandas as pd\n",
    "import seaborn as sns\n",
    "import time\n",
    "\n",
    "log_folder = '../logs/'\n",
    "log_file = log_folder + 'log_20200515_preendgames.csv'\n",
    "\n",
    "todays_date = date.today().strftime(\"%Y%m%d\")"
   ]
  },
  {
   "cell_type": "code",
   "execution_count": null,
   "metadata": {},
   "outputs": [
    {
     "name": "stdout",
     "output_type": "stream",
     "text": [
      "['p2', 'J3DH3KGZPuqMEDDcFXJauQ', '1', 'CEIIORT', '8H TORIC', '20', '20', '5', 'EI', '21.853', '86', '0']\n",
      "['p1', 'J3DH3KGZPuqMEDDcFXJauQ', '2', 'CDEIIJW', '9G JEW', '36', '36', '3', 'CDII', '33.265', '81', '20']\n",
      "['p2', 'J3DH3KGZPuqMEDDcFXJauQ', '3', 'EFIMOQT', '10F MOTE', '30', '50', '4', 'FIQ', '21.483', '78', '36']\n",
      "['p1', 'J3DH3KGZPuqMEDDcFXJauQ', '4', 'ACDHIII', 'L7 A.IDIC', '22', '58', '5', 'HI', '22.994', '74', '50']\n",
      "['p2', 'J3DH3KGZPuqMEDDcFXJauQ', '5', 'BEFGIOQ', '11C BEFOG', '37', '87', '5', 'IQ', '32.050', '69', '58']\n",
      "['p2', 'wvTRHqNYEEjCHJiuGDw3WM', '1', 'DEIOSTW', '8D WITED', '26', '26', '5', 'OS', '32.236', '86', '0']\n",
      "['p1', 'J3DH3KGZPuqMEDDcFXJauQ', '6', 'AHIOORV', '12D HAO', '32', '90', '3', 'IORV', '29.935', '64', '87']\n",
      "['p1', 'wvTRHqNYEEjCHJiuGDw3WM', '2', 'DENRTWZ', 'E7 W.ZEN', '34', '34', '4', 'DRT', '34.836', '81', '26']\n",
      "['p2', 'J3DH3KGZPuqMEDDcFXJauQ', '7', 'AINQRTV', 'J10 TRANQ', '45', '132', '5', 'IV', '40.426', '61', '90']\n",
      "['p2', 'wvTRHqNYEEjCHJiuGDw3WM', '3', 'ABHOOSX', 'F8 .AX', '62', '88', '2', 'BHOOS', '64.370', '77', '34']\n",
      "Processed 1000000 rows in 2.2336978912353516 seconds\n"
     ]
    }
   ],
   "source": [
    "spread = {}\n",
    "win_dict = {}\n",
    "\n",
    "t0 = time.time()\n",
    "\n",
    "# because moves are logged chronologically, we can overwrite the entry for each game ID\n",
    "# for each move until we reach the final move, at which point we know the final state of the game.\n",
    "with open(log_file,'r') as f:\n",
    "    moveReader = csv.reader(f)\n",
    "    next(moveReader)\n",
    "    \n",
    "    for i,row in enumerate(moveReader):\n",
    "        if (i+1)%1000000==0:\n",
    "            print('Processed {} rows in {} seconds'.format(i+1, time.time()-t0))\n",
    "            \n",
    "        if i<10:\n",
    "            print(row)\n",
    "                    \n",
    "        # This flag indicates whether p1 won or not, with 0.5 as the value if the game was tied.\n",
    "        if row[0]=='p1':\n",
    "            spread[row[1]] = int(row[6])-int(row[11])\n",
    "        else:\n",
    "            spread[row[1]] = int(row[11])-int(row[6])"
   ]
  },
  {
   "cell_type": "code",
   "execution_count": null,
   "metadata": {},
   "outputs": [],
   "source": [
    "for game_id in spread.keys():\n",
    "    win_dict[game_id] = (np.sign(spread[game_id])+1)/2"
   ]
  },
  {
   "cell_type": "markdown",
   "metadata": {},
   "source": [
    "Can define what spread beyond which you assume player has a 0 or 100% chance of winning - using 300 as first guess.\n",
    "\n",
    "Also, spreads now range only from 0 to positive numbers, because trailing by 50 and winning is the same outcome and leading by 50 and losing (just swapping the players' perspectives)"
   ]
  },
  {
   "cell_type": "code",
   "execution_count": null,
   "metadata": {},
   "outputs": [],
   "source": [
    "max_spread = 300\n",
    "counter_dict_by_spread_and_tiles_remaining = {x:{\n",
    "    spread:0 for spread in range(max_spread,-max_spread-1,-1)} for x in range(0,94)}\n",
    "win_counter_dict_by_spread_and_tiles_remaining = deepcopy(counter_dict_by_spread_and_tiles_remaining)"
   ]
  },
  {
   "cell_type": "code",
   "execution_count": null,
   "metadata": {},
   "outputs": [],
   "source": [
    "t0=time.time()\n",
    "print('There are {} games'.format(len(win_dict)))\n",
    "\n",
    "with open(log_file,'r') as f:\n",
    "    moveReader = csv.reader(f)\n",
    "    next(moveReader)\n",
    "    \n",
    "    for i,row in enumerate(moveReader):\n",
    "        if (i+1)%1000000==0:\n",
    "            print('Processed {} rows in {} seconds'.format(i+1, time.time()-t0))\n",
    "\n",
    "        # truncate spread to the range -max_spread to max_spread\n",
    "        end_of_turn_tiles_left = int(row[10])-int(row[7])\n",
    "        end_of_turn_spread = int(row[6])-int(row[11])\n",
    "        \n",
    "        if end_of_turn_tiles_left > 0:\n",
    "            counter_dict_by_spread_and_tiles_remaining[end_of_turn_tiles_left][end_of_turn_spread] += 1\n",
    "\n",
    "            if row[0]=='p1':\n",
    "                win_counter_dict_by_spread_and_tiles_remaining[\n",
    "                    end_of_turn_tiles_left][end_of_turn_spread] += win_dict[row[1]]\n",
    "            else:\n",
    "                win_counter_dict_by_spread_and_tiles_remaining[\n",
    "                    end_of_turn_tiles_left][end_of_turn_spread] += (1-win_dict[row[1]])\n",
    "         \n",
    "        # debug rows\n",
    "        if i<10:\n",
    "            print(row)\n",
    "            print(end_of_turn_spread)\n",
    "            print(end_of_turn_tiles_left)\n",
    "            print(counter_dict_by_spread_and_tiles_remaining[end_of_turn_tiles_left][end_of_turn_spread])\n",
    "            print(win_counter_dict_by_spread_and_tiles_remaining[end_of_turn_tiles_left][end_of_turn_spread])"
   ]
  },
  {
   "cell_type": "code",
   "execution_count": null,
   "metadata": {},
   "outputs": [],
   "source": [
    "count_df = pd.DataFrame(counter_dict_by_spread_and_tiles_remaining)\n",
    "win_df = pd.DataFrame(win_counter_dict_by_spread_and_tiles_remaining)\n",
    "win_pct_df = win_df/count_df"
   ]
  },
  {
   "cell_type": "code",
   "execution_count": null,
   "metadata": {},
   "outputs": [],
   "source": [
    "fig,ax = plt.subplots(figsize=(12,8))\n",
    "sns.heatmap(win_pct_df, ax=ax)\n",
    "ax.set_xlabel('Tiles remaining')\n",
    "ax.set_ylabel('Game spread')\n",
    "ax.set_title('Win % by tiles remaining and spread')"
   ]
  },
  {
   "cell_type": "code",
   "execution_count": null,
   "metadata": {},
   "outputs": [],
   "source": [
    "plt.savefig('win_pct.jpg')"
   ]
  }
 ],
 "metadata": {
  "kernelspec": {
   "display_name": "Python 3",
   "language": "python",
   "name": "python3"
  },
  "language_info": {
   "codemirror_mode": {
    "name": "ipython",
    "version": 3
   },
   "file_extension": ".py",
   "mimetype": "text/x-python",
   "name": "python",
   "nbconvert_exporter": "python",
   "pygments_lexer": "ipython3",
   "version": "3.7.4"
  }
 },
 "nbformat": 4,
 "nbformat_minor": 4
}
