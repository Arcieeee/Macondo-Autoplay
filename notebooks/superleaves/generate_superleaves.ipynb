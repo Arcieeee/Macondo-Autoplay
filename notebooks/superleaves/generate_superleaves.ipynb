{
 "cells": [
  {
   "cell_type": "markdown",
   "metadata": {},
   "source": [
    "#### How to use\n",
    "* Calculates the list of all superleaves of length 1-6 tiles (or loads this list in), loads in a log of moves from simulated games, and then calculates the expected value of each superleave based on how much was scored by each rack containing that superleave.\n",
    "\n",
    "#### To-do\n",
    "* The frequency/count estimate for superleaves is currently calculated incorrectly.\n",
    "* The synergy metrics appear to be totally broken.\n",
    "\n",
    "\n",
    "#### Changelog\n",
    "* 11/27/19 - wow, it's been awhile. Stopped loading all moves into memory (yikes) and instead wrote a much faster version that can go through 50M moves on my local machine in ~3 hours.\n",
    "* 1/27/19 - Determined that the speed of creation of the rack dataframes is a function of the length of the dataframe. From that, realized that we should organize leaves by least-frequent to most-frequent letter, such that sub-dataframes are created from the shortest racks possible."
   ]
  },
  {
   "cell_type": "code",
   "execution_count": 1,
   "metadata": {},
   "outputs": [],
   "source": [
    "import csv\n",
    "from datetime import date\n",
    "from itertools import combinations\n",
    "import numpy as np\n",
    "import pandas as pd\n",
    "import pickle as pkl\n",
    "import seaborn as sns\n",
    "from string import ascii_uppercase\n",
    "import time as time\n",
    "\n",
    "%matplotlib inline\n",
    "\n",
    "maximum_superleave_length = 6\n",
    "\n",
    "log_file = '../logs/log_20200411.csv'\n",
    "# log_file = 'log_1m.csv'\n",
    "\n",
    "todays_date = date.today().strftime(\"%Y%m%d\")"
   ]
  },
  {
   "cell_type": "code",
   "execution_count": 2,
   "metadata": {},
   "outputs": [
    {
     "data": {
      "text/plain": [
       "'20200423'"
      ]
     },
     "execution_count": 2,
     "metadata": {},
     "output_type": "execute_result"
    }
   ],
   "source": [
    "todays_date"
   ]
  },
  {
   "cell_type": "markdown",
   "metadata": {},
   "source": [
    "Create a dictionary of all possible 1 to 6-tile leaves. Also, add functionality for sorting by an arbitrary key - allowing us to put rarest letters first"
   ]
  },
  {
   "cell_type": "code",
   "execution_count": 3,
   "metadata": {},
   "outputs": [],
   "source": [
    "# tilebag = ['A']*9+['B']*2+['C']*2+['D']*4+['E']*12+\\\n",
    "#           ['F']*2+['G']*3+['H']*2+['I']*9+['J']*1+\\\n",
    "#           ['K']*1+['L']*4+['M']*2+['N']*6+['O']*8+\\\n",
    "#           ['P']*2+['Q']*1+['R']*6+['S']*4+['T']*6+\\\n",
    "#           ['U']*4+['V']*2+['W']*2+['X']*1+['Y']*2+\\\n",
    "#           ['Z']*1+['?']*2\n",
    "\n",
    "# No superleave is longer than 6 letters, and so we only need to include\n",
    "# 6 each of the As, Es, Is and Os. This shortens the time it takes to find all of\n",
    "# the superleaves by 50%!\n",
    "truncated_tilebag = \\\n",
    "          ['A']*6+['B']*2+['C']*2+['D']*4+['E']*6+\\\n",
    "          ['F']*2+['G']*3+['H']*2+['I']*6+['J']*1+\\\n",
    "          ['K']*1+['L']*4+['M']*2+['N']*6+['O']*6+\\\n",
    "          ['P']*2+['Q']*1+['R']*6+['S']*4+['T']*6+\\\n",
    "          ['U']*4+['V']*2+['W']*2+['X']*1+['Y']*2+\\\n",
    "          ['Z']*1+['?']*2\n",
    "            \n",
    "tiles = [x for x in ascii_uppercase] + ['?']\n",
    "\n",
    "# potential future improvement: calculate optimal order of letters on the fly\n",
    "# rarity_key = 'ZXKJQ?HYMFPWBCVSGDLURTNAOIE'\n",
    "alphabetical_key = '?ABCDEFGHIJKLMNOPQRSTUVWXYZ'\n",
    "sort_func = lambda x: alphabetical_key.index(x)"
   ]
  },
  {
   "cell_type": "markdown",
   "metadata": {},
   "source": [
    "On my home machine, the following code takes about 7 minutes to run in its entirety."
   ]
  },
  {
   "cell_type": "code",
   "execution_count": 4,
   "metadata": {},
   "outputs": [],
   "source": [
    "# t0 = time.time()\n",
    "\n",
    "# leaves = {i:sorted(list(set(list(combinations(truncated_tilebag,i))))) for i in \n",
    "#           range(1,maximum_superleave_length+1)}\n",
    "\n",
    "# # turn leaves from lists of letters into strings\n",
    "# # algorithm runs faster if leaves non-alphabetical!\n",
    "# for i in range(1,maximum_superleave_length+1):\n",
    "#     leaves[i] = [''.join(sorted(leave, key=sort_func))\n",
    "#                  for leave in leaves[i]]\n",
    "\n",
    "# t1 = time.time()\n",
    "# print('Calculated superleaves up to length {} in {} seconds'.format(\n",
    "#     maximum_superleave_length,t1-t0))\n",
    "\n",
    "# pkl.dump(leaves,open('all_leaves.p','wb'))"
   ]
  },
  {
   "cell_type": "code",
   "execution_count": 5,
   "metadata": {},
   "outputs": [],
   "source": [
    "leaves = pkl.load(open('all_leaves.p','rb'))"
   ]
  },
  {
   "cell_type": "markdown",
   "metadata": {},
   "source": [
    "How many superleaves are there of each length? See below:"
   ]
  },
  {
   "cell_type": "code",
   "execution_count": 6,
   "metadata": {},
   "outputs": [
    {
     "name": "stdout",
     "output_type": "stream",
     "text": [
      "1 27\n",
      "2 373\n",
      "3 3509\n",
      "4 25254\n",
      "5 148150\n",
      "6 737311\n"
     ]
    }
   ],
   "source": [
    "for i in range(1,maximum_superleave_length+1):\n",
    "    print(i,len(leaves[i]))"
   ]
  },
  {
   "cell_type": "markdown",
   "metadata": {},
   "source": [
    "### Define metrics we're tallying for each subleaves\n",
    "Currently, we track the following metrics with each new rack:\n",
    "* Total points\n",
    "* Count (how many times subleaves has appeared in data set)\n",
    "* Bingo Count"
   ]
  },
  {
   "cell_type": "code",
   "execution_count": 7,
   "metadata": {},
   "outputs": [],
   "source": [
    "all_leaves = []\n",
    "\n",
    "for i in range(1,maximum_superleave_length+1):\n",
    "    all_leaves.extend(leaves[i])"
   ]
  },
  {
   "cell_type": "code",
   "execution_count": 8,
   "metadata": {},
   "outputs": [],
   "source": [
    "def find_subleaves(rack, min_length=1, max_length=6, duplicates_allowed = False):\n",
    "    if not duplicates_allowed:\n",
    "        return [''.join(sorted(x, key=sort_func)) for i in range(min_length, max_length+1) \n",
    "            for x in set(list(combinations(rack,i)))]\n",
    "    else:\n",
    "        return [''.join(sorted(x, key=sort_func)) for i in range(min_length, max_length+1) \n",
    "            for x in list(combinations(rack,i))]        "
   ]
  },
  {
   "cell_type": "markdown",
   "metadata": {},
   "source": [
    "*tile_limit* below is the minimum number of tiles left on a rack for it to be factored into superleave calculation. The idea is that moves with the bag empty tend to be worth less, and may not reflect the value of a letter in the rest of the game (most notably, if you have the blank and the bag is empty, you often can't bingo!)."
   ]
  },
  {
   "cell_type": "code",
   "execution_count": 9,
   "metadata": {},
   "outputs": [
    {
     "name": "stdout",
     "output_type": "stream",
     "text": [
      "Processed 0 rows in 0.4682748317718506 seconds\n",
      "0 ['0', 'pCdgpioJfST7J6AcwFPhwi', '1', 'AUP?NAL', '8D PLANUlA', '72', '72', '7', '', '72.000', '86']\n",
      "1 ['1', 'pCdgpioJfST7J6AcwFPhwi', '2', 'BZONDDR', 'J8 .DZ', '33', '33', '2', 'BDNOR', '31.475', '79']\n",
      "2 ['0', 'pCdgpioJfST7J6AcwFPhwi', '3', 'EHEEIOI', 'G5 HEI.IE', '11', '83', '5', 'EO', '10.338', '77']\n",
      "3 ['1', 'pCdgpioJfST7J6AcwFPhwi', '4', 'GFBDNOR', 'F10 FROND', '34', '67', '5', 'BG', '29.018', '72']\n",
      "4 ['0', 'qnzjBBfJvUqBoehxRpX7SA', '1', 'ESRNLUI', '(exch LU)', '0', '0', '2', 'EINRS', '20.276', '86']\n",
      "5 ['1', 'qnzjBBfJvUqBoehxRpX7SA', '2', 'IEYKHPI', '8E PIKI', '20', '20', '4', 'EHY', '22.207', '86']\n",
      "6 ['0', 'qnzjBBfJvUqBoehxRpX7SA', '3', 'AEEINRS', 'E6 NA.ERIES', '70', '70', '7', '', '70.000', '82']\n",
      "7 ['0', 'pCdgpioJfST7J6AcwFPhwi', '5', 'NILMREO', '6F L.MONIER', '64', '147', '7', '', '64.000', '67']\n",
      "8 ['1', 'pCdgpioJfST7J6AcwFPhwi', '6', 'SAVBTBG', '15F STAB', '28', '95', '4', 'BGV', '17.250', '60']\n",
      "9 ['1', 'qnzjBBfJvUqBoehxRpX7SA', '4', 'TGPAEHY', 'D11 PHAGE', '40', '60', '5', 'TY', '39.171', '75']\n",
      "Processed 1000000 rows in 237.79503989219666 seconds\n",
      "Processed 2000000 rows in 479.9372568130493 seconds\n",
      "Processed 3000000 rows in 722.0096588134766 seconds\n",
      "Processed 4000000 rows in 964.8903069496155 seconds\n",
      "Processed 5000000 rows in 1209.053820848465 seconds\n",
      "Processed 6000000 rows in 1452.17244887352 seconds\n",
      "Processed 7000000 rows in 1696.2225940227509 seconds\n",
      "Processed 8000000 rows in 1941.4955179691315 seconds\n",
      "Processed 9000000 rows in 2187.5019047260284 seconds\n",
      "Processed 10000000 rows in 2432.400200843811 seconds\n",
      "10243927 ['playerID', 'gameID', 'turn', 'rack', 'play', 'score', 'totalscore', 'tilesplayed', 'leave', 'equity', 'tilesremaining']\n",
      "Processed 11000000 rows in 2676.159300804138 seconds\n",
      "Processed 12000000 rows in 2920.09512090683 seconds\n",
      "Processed 13000000 rows in 3164.676549911499 seconds\n",
      "Processed 14000000 rows in 3409.667406797409 seconds\n",
      "Processed 15000000 rows in 3653.881110906601 seconds\n",
      "Processed 16000000 rows in 3898.654709815979 seconds\n",
      "Processed 17000000 rows in 4143.04115986824 seconds\n",
      "Processed 18000000 rows in 4387.344137907028 seconds\n",
      "Processed 19000000 rows in 4632.023698806763 seconds\n",
      "Processed 20000000 rows in 4880.892999887466 seconds\n",
      "Processed 21000000 rows in 5138.972673892975 seconds\n",
      "Processed 22000000 rows in 5393.181662797928 seconds\n",
      "Processed 23000000 rows in 5640.577565908432 seconds\n",
      "Processed 24000000 rows in 5891.28360080719 seconds\n",
      "Processed 25000000 rows in 6138.334511756897 seconds\n",
      "Processed 26000000 rows in 6384.853584766388 seconds\n",
      "Processed 27000000 rows in 6632.043139696121 seconds\n",
      "Processed 28000000 rows in 6879.023837804794 seconds\n",
      "Processed 29000000 rows in 7125.381490945816 seconds\n",
      "Processed 30000000 rows in 7370.930189847946 seconds\n",
      "Processed 31000000 rows in 7616.650668859482 seconds\n",
      "Processed 32000000 rows in 7862.1906678676605 seconds\n",
      "Processed 33000000 rows in 8107.705486774445 seconds\n",
      "Processed 34000000 rows in 8359.149025917053 seconds\n",
      "Processed 35000000 rows in 8608.718235731125 seconds\n",
      "Processed 36000000 rows in 8858.302822828293 seconds\n",
      "Processed 37000000 rows in 9108.297048807144 seconds\n",
      "Processed 38000000 rows in 9357.730856895447 seconds\n",
      "Processed 39000000 rows in 9604.671444892883 seconds\n",
      "Processed 40000000 rows in 9850.358835935593 seconds\n",
      "Processed 41000000 rows in 10096.477051734924 seconds\n",
      "Processed 42000000 rows in 10343.201989889145 seconds\n",
      "Processed 43000000 rows in 10590.009742736816 seconds\n",
      "Processed 44000000 rows in 10836.527053833008 seconds\n",
      "Processed 45000000 rows in 11083.147250890732 seconds\n",
      "Processed 46000000 rows in 11330.252121686935 seconds\n",
      "Processed 47000000 rows in 11576.718948841095 seconds\n",
      "Processed 48000000 rows in 11822.932937860489 seconds\n",
      "Processed 49000000 rows in 12069.318656921387 seconds\n",
      "Processed 50000000 rows in 12315.551276922226 seconds\n",
      "Processed 51000000 rows in 12562.735736846924 seconds\n",
      "Processed 52000000 rows in 12809.174051761627 seconds\n",
      "Processed 53000000 rows in 13055.966620922089 seconds\n",
      "Processed 54000000 rows in 13302.113781929016 seconds\n",
      "Processed 55000000 rows in 13548.817324876785 seconds\n",
      "Processed 56000000 rows in 13795.44717001915 seconds\n",
      "Processed 57000000 rows in 14042.486822843552 seconds\n",
      "Processed 58000000 rows in 14290.210307836533 seconds\n",
      "Processed 59000000 rows in 14538.424249649048 seconds\n",
      "Processed 60000000 rows in 14785.589723825455 seconds\n",
      "Processed 61000000 rows in 15032.462725877762 seconds\n",
      "Processed 62000000 rows in 15279.629460811615 seconds\n",
      "Processed 63000000 rows in 15527.901741027832 seconds\n",
      "Processed 64000000 rows in 15777.097388982773 seconds\n",
      "Processed 65000000 rows in 16024.45606970787 seconds\n",
      "Processed 66000000 rows in 16270.825419902802 seconds\n",
      "Processed 67000000 rows in 16519.576944828033 seconds\n",
      "Processed 68000000 rows in 16766.61188197136 seconds\n",
      "Processed 69000000 rows in 17013.791307926178 seconds\n",
      "Processed 70000000 rows in 17260.561950922012 seconds\n",
      "Processed 71000000 rows in 17508.268555879593 seconds\n",
      "Processed 72000000 rows in 17756.31255865097 seconds\n",
      "Processed 73000000 rows in 18003.760074853897 seconds\n",
      "Processed 74000000 rows in 18250.883123874664 seconds\n",
      "Processed 75000000 rows in 18497.84097790718 seconds\n",
      "Processed 76000000 rows in 18744.503437042236 seconds\n",
      "Processed 77000000 rows in 18991.18461585045 seconds\n",
      "Processed 78000000 rows in 19238.055518865585 seconds\n",
      "Processed 79000000 rows in 19485.156936883926 seconds\n",
      "Processed 80000000 rows in 19732.388855934143 seconds\n",
      "Processed 81000000 rows in 19979.509913682938 seconds\n",
      "Processed 82000000 rows in 20227.302009820938 seconds\n",
      "Processed 83000000 rows in 20473.99444580078 seconds\n",
      "Processed 84000000 rows in 20721.120172977448 seconds\n",
      "Processed 85000000 rows in 20967.384855031967 seconds\n",
      "Processed 86000000 rows in 21214.655117034912 seconds\n",
      "Processed 87000000 rows in 21461.6470079422 seconds\n",
      "Processed 88000000 rows in 21709.139774799347 seconds\n",
      "Processed 89000000 rows in 21956.429052829742 seconds\n",
      "Processed 90000000 rows in 22203.624675035477 seconds\n",
      "Processed 91000000 rows in 22450.66624379158 seconds\n",
      "Processed 92000000 rows in 22697.662963867188 seconds\n",
      "Processed 93000000 rows in 22945.136934757233 seconds\n",
      "Processed 94000000 rows in 23191.992449998856 seconds\n",
      "Processed 95000000 rows in 23439.40282702446 seconds\n",
      "Processed 96000000 rows in 23687.177476882935 seconds\n",
      "Processed 97000000 rows in 23934.32209467888 seconds\n",
      "Processed 98000000 rows in 24182.495756864548 seconds\n",
      "Processed 99000000 rows in 24429.313586950302 seconds\n",
      "Processed 100000000 rows in 24676.11242890358 seconds\n",
      "Processed 101000000 rows in 24923.666399002075 seconds\n",
      "Processed 102000000 rows in 25170.899102926254 seconds\n",
      "Processed 103000000 rows in 25419.730791807175 seconds\n",
      "Processed 104000000 rows in 25667.31031703949 seconds\n",
      "Processed 105000000 rows in 25914.79184293747 seconds\n",
      "Processed 106000000 rows in 26161.846782922745 seconds\n",
      "Processed 107000000 rows in 26409.06631875038 seconds\n",
      "Processed 108000000 rows in 26656.51348567009 seconds\n",
      "Processed 109000000 rows in 26903.429332971573 seconds\n",
      "Processed 110000000 rows in 27154.29043507576 seconds\n",
      "Processed 111000000 rows in 27402.902513742447 seconds\n",
      "Processed 112000000 rows in 27650.586820840836 seconds\n",
      "Processed 113000000 rows in 27898.464062929153 seconds\n",
      "Processed 114000000 rows in 28146.729255914688 seconds\n",
      "Processed 115000000 rows in 28395.0171687603 seconds\n",
      "28572.481395959854 seconds to populate dictionaries\n"
     ]
    }
   ],
   "source": [
    "t0 = time.time()\n",
    "\n",
    "tile_limit = 1\n",
    "points = {x:0 for x in all_leaves}\n",
    "count = {x:0 for x in all_leaves}\n",
    "bingo_count = {x:0 for x in all_leaves}\n",
    "total_points = 0\n",
    "row_count = 0\n",
    "\n",
    "with open(log_file,'r') as f:\n",
    "    moveReader = csv.reader(f)\n",
    "    next(moveReader)\n",
    "    \n",
    "    for i,row in enumerate(moveReader):\n",
    "        if i%1000000==0:\n",
    "            t = time.time()\n",
    "            print('Processed {} rows in {} seconds'.format(i,t-t0))\n",
    "        \n",
    "        if i<10:\n",
    "            print(i,row)\n",
    "            \n",
    "        try:    \n",
    "            if int(row[10]) >= tile_limit:\n",
    "\n",
    "                total_points += int(row[5])\n",
    "                row_count += 1\n",
    "\n",
    "                for subleave in find_subleaves(row[3],\n",
    "                        max_length=maximum_superleave_length):\n",
    "                    points[subleave] += int(row[5])\n",
    "                    count[subleave] += 1\n",
    "                    bingo_count[subleave] += row[7] == '7'\n",
    "        except:\n",
    "            print(i,row)\n",
    "                u\n",
    "t1 = time.time()\n",
    "print('{} seconds to populate dictionaries'.format(t1-t0))"
   ]
  },
  {
   "cell_type": "code",
   "execution_count": 10,
   "metadata": {},
   "outputs": [],
   "source": [
    "ev_df = pd.concat([pd.Series(points, name='points'),\n",
    "                  pd.Series(count, name='count'),\n",
    "                  pd.Series(bingo_count, name='bingo_count')],\n",
    "                  axis=1)"
   ]
  },
  {
   "cell_type": "code",
   "execution_count": 11,
   "metadata": {},
   "outputs": [],
   "source": [
    "mean_score = total_points/row_count"
   ]
  },
  {
   "cell_type": "code",
   "execution_count": 12,
   "metadata": {},
   "outputs": [],
   "source": [
    "ev_df['mean'] = ev_df['points']/ev_df['count']\n",
    "ev_df['bingo pct'] = 100*ev_df['bingo_count']/ev_df['count']\n",
    "ev_df['pct'] = 100*ev_df['count']/len(ev_df)\n",
    "ev_df['ev'] = ev_df['mean']-mean_score"
   ]
  },
  {
   "cell_type": "code",
   "execution_count": 13,
   "metadata": {},
   "outputs": [
    {
     "data": {
      "text/plain": [
       "??AYYZ    106.928321\n",
       "??CJKY    105.928321\n",
       "??CCKS    105.428321\n",
       "??KMSS    100.528321\n",
       "??MSSZ     94.594987\n",
       "             ...    \n",
       "?WWXYZ           NaN\n",
       "??WWYY           NaN\n",
       "??WXYY           NaN\n",
       "??WYYZ           NaN\n",
       "??XYYZ           NaN\n",
       "Name: ev, Length: 914624, dtype: float64"
      ]
     },
     "execution_count": 13,
     "metadata": {},
     "output_type": "execute_result"
    }
   ],
   "source": [
    "ev_df['ev'].sort_values(ascending=False)"
   ]
  },
  {
   "cell_type": "code",
   "execution_count": 27,
   "metadata": {},
   "outputs": [
    {
     "name": "stderr",
     "output_type": "stream",
     "text": [
      "/opt/anaconda3/lib/python3.7/site-packages/ipykernel_launcher.py:1: FutureWarning: The signature of `Series.to_csv` was aligned to that of `DataFrame.to_csv`, and argument 'header' will change its default value from False to True: please pass an explicit value to suppress this warning.\n",
      "  \"\"\"Entry point for launching an IPython kernel.\n"
     ]
    }
   ],
   "source": [
    "ev_df['ev'].to_csv('leave_values_' + todays_date + '.csv', index=True)\n",
    "ev_df.to_csv('leave_summary_' + todays_date + '.csv', index=True)"
   ]
  },
  {
   "cell_type": "markdown",
   "metadata": {},
   "source": [
    "#### Handle missing leave values\n",
    "If a given superleave of length n is never observed in the trial games, three things can happen:\n",
    "* if majority of subleaves of length n-1 are positive, take their maximum.\n",
    "* if half and half, take average of subleaves.\n",
    "* if majority of subleaves are negative, take their minimum."
   ]
  },
  {
   "cell_type": "code",
   "execution_count": 28,
   "metadata": {},
   "outputs": [],
   "source": [
    "ev_dict = ev_df['ev'].to_dict()"
   ]
  },
  {
   "cell_type": "code",
   "execution_count": 29,
   "metadata": {},
   "outputs": [
    {
     "name": "stdout",
     "output_type": "stream",
     "text": [
      "Filled in all NaN superleaves with best guesses in 0.5795419216156006 seconds\n"
     ]
    }
   ],
   "source": [
    "t0 = time.time()\n",
    "\n",
    "for leave in all_leaves:\n",
    "    if pd.isnull(ev_dict[leave]):\n",
    "        subleaves = find_subleaves(leave,\n",
    "                                   min_length=len(leave)-1, \n",
    "                                   max_length=len(leave)-1,\n",
    "                                   duplicates_allowed=True)\n",
    "        sub_evs = [ev_dict[subleave] for subleave in subleaves]\n",
    "        signs = sum([x/abs(x) for x in sub_evs])\n",
    "        \n",
    "        if signs==0:\n",
    "            ev_dict[leave] = sum(sub_evs)/len(sub_evs)\n",
    "        if signs>0:\n",
    "            ev_dict[leave] = max(sub_evs)\n",
    "        if signs<0:\n",
    "            ev_dict[leave] = min(sub_evs)\n",
    "        \n",
    "t1 = time.time()\n",
    "print('Filled in all NaN superleaves with best guesses in {} seconds'.format(t1-t0))"
   ]
  },
  {
   "cell_type": "code",
   "execution_count": 30,
   "metadata": {},
   "outputs": [],
   "source": [
    "ev_df = ev_df.drop('ev', axis=1)\n",
    "ev_df = pd.concat([ev_df,pd.Series(ev_dict,name='ev')], axis=1)"
   ]
  },
  {
   "cell_type": "code",
   "execution_count": 31,
   "metadata": {},
   "outputs": [
    {
     "name": "stderr",
     "output_type": "stream",
     "text": [
      "/opt/anaconda3/lib/python3.7/site-packages/ipykernel_launcher.py:1: FutureWarning: The signature of `Series.to_csv` was aligned to that of `DataFrame.to_csv`, and argument 'header' will change its default value from False to True: please pass an explicit value to suppress this warning.\n",
      "  \"\"\"Entry point for launching an IPython kernel.\n"
     ]
    }
   ],
   "source": [
    "ev_df['ev'].to_csv('leave_values_' + todays_date + '_filled_nulls.csv', index=True)\n",
    "ev_df.to_csv('leave_summary_' + todays_date + '_filled_nulls.csv', index=True)"
   ]
  },
  {
   "cell_type": "markdown",
   "metadata": {},
   "source": [
    "#### Calculate rack synergy\n",
    "In other words, how much better is the EV of this superleave than the value of each tile on its own?"
   ]
  },
  {
   "cell_type": "code",
   "execution_count": 19,
   "metadata": {},
   "outputs": [
    {
     "name": "stdout",
     "output_type": "stream",
     "text": [
      "Calculated \"synergy\" in 5.305424928665161 seconds\n"
     ]
    }
   ],
   "source": [
    "t0 = time.time()\n",
    "\n",
    "synergy = {x:0 for x in all_leaves}\n",
    "\n",
    "for leave in all_leaves:\n",
    "    if len(leave)>1:\n",
    "        subleaves = find_subleaves(leave, min_length=1, max_length=1, duplicates_allowed=True)\n",
    "        sub_evs = [ev_dict[subleave] for subleave in subleaves]\n",
    "        synergy[leave] = ev_dict[leave]-sum(sub_evs)\n",
    "        \n",
    "t1 = time.time()\n",
    "print('Calculated \"synergy\" in {} seconds'.format(t1-t0))"
   ]
  },
  {
   "cell_type": "code",
   "execution_count": 20,
   "metadata": {},
   "outputs": [],
   "source": [
    "ev_df = pd.concat([ev_df,pd.Series(synergy, name='synergy')], axis=1)"
   ]
  },
  {
   "cell_type": "code",
   "execution_count": 21,
   "metadata": {},
   "outputs": [
    {
     "data": {
      "text/plain": [
       "Index(['?', 'A', 'B', 'C', 'D', 'E', 'F', 'G', 'H', 'I',\n",
       "       ...\n",
       "       '?WWXYZ', '??WWXZ', '??WWYY', '?WWYYZ', '??WWYZ', '??WXYY', '?WXYYZ',\n",
       "       '??WXYZ', '??WYYZ', '??XYYZ'],\n",
       "      dtype='object', name='superleave', length=914624)"
      ]
     },
     "execution_count": 21,
     "metadata": {},
     "output_type": "execute_result"
    }
   ],
   "source": [
    "ev_df.index.rename('superleave')"
   ]
  },
  {
   "cell_type": "code",
   "execution_count": 22,
   "metadata": {},
   "outputs": [
    {
     "data": {
      "text/html": [
       "<div>\n",
       "<style scoped>\n",
       "    .dataframe tbody tr th:only-of-type {\n",
       "        vertical-align: middle;\n",
       "    }\n",
       "\n",
       "    .dataframe tbody tr th {\n",
       "        vertical-align: top;\n",
       "    }\n",
       "\n",
       "    .dataframe thead th {\n",
       "        text-align: right;\n",
       "    }\n",
       "</style>\n",
       "<table border=\"1\" class=\"dataframe\">\n",
       "  <thead>\n",
       "    <tr style=\"text-align: right;\">\n",
       "      <th></th>\n",
       "      <th>points</th>\n",
       "      <th>count</th>\n",
       "      <th>bingo_count</th>\n",
       "      <th>mean</th>\n",
       "      <th>bingo pct</th>\n",
       "      <th>pct</th>\n",
       "      <th>ev</th>\n",
       "      <th>synergy</th>\n",
       "    </tr>\n",
       "  </thead>\n",
       "  <tbody>\n",
       "    <tr>\n",
       "      <td>?</td>\n",
       "      <td>782820960</td>\n",
       "      <td>13841229</td>\n",
       "      <td>7322671</td>\n",
       "      <td>56.557186</td>\n",
       "      <td>52.904775</td>\n",
       "      <td>1513.324492</td>\n",
       "      <td>17.485506</td>\n",
       "      <td>0.000000</td>\n",
       "    </tr>\n",
       "    <tr>\n",
       "      <td>A</td>\n",
       "      <td>2005089326</td>\n",
       "      <td>49868572</td>\n",
       "      <td>10037371</td>\n",
       "      <td>40.207474</td>\n",
       "      <td>20.127649</td>\n",
       "      <td>5452.357690</td>\n",
       "      <td>1.135795</td>\n",
       "      <td>0.000000</td>\n",
       "    </tr>\n",
       "    <tr>\n",
       "      <td>B</td>\n",
       "      <td>461839888</td>\n",
       "      <td>12390310</td>\n",
       "      <td>1601088</td>\n",
       "      <td>37.274280</td>\n",
       "      <td>12.922098</td>\n",
       "      <td>1354.688921</td>\n",
       "      <td>-1.797399</td>\n",
       "      <td>0.000000</td>\n",
       "    </tr>\n",
       "    <tr>\n",
       "      <td>C</td>\n",
       "      <td>576503825</td>\n",
       "      <td>14491423</td>\n",
       "      <td>2644552</td>\n",
       "      <td>39.782416</td>\n",
       "      <td>18.249084</td>\n",
       "      <td>1584.413158</td>\n",
       "      <td>0.710737</td>\n",
       "      <td>0.000000</td>\n",
       "    </tr>\n",
       "    <tr>\n",
       "      <td>D</td>\n",
       "      <td>1012212785</td>\n",
       "      <td>25452930</td>\n",
       "      <td>4829723</td>\n",
       "      <td>39.768026</td>\n",
       "      <td>18.975116</td>\n",
       "      <td>2782.884551</td>\n",
       "      <td>0.696347</td>\n",
       "      <td>0.000000</td>\n",
       "    </tr>\n",
       "    <tr>\n",
       "      <td>...</td>\n",
       "      <td>...</td>\n",
       "      <td>...</td>\n",
       "      <td>...</td>\n",
       "      <td>...</td>\n",
       "      <td>...</td>\n",
       "      <td>...</td>\n",
       "      <td>...</td>\n",
       "      <td>...</td>\n",
       "    </tr>\n",
       "    <tr>\n",
       "      <td>??WXYY</td>\n",
       "      <td>0</td>\n",
       "      <td>0</td>\n",
       "      <td>0</td>\n",
       "      <td>NaN</td>\n",
       "      <td>NaN</td>\n",
       "      <td>0.000000</td>\n",
       "      <td>7.466782</td>\n",
       "      <td>-24.600389</td>\n",
       "    </tr>\n",
       "    <tr>\n",
       "      <td>?WXYYZ</td>\n",
       "      <td>59</td>\n",
       "      <td>1</td>\n",
       "      <td>0</td>\n",
       "      <td>59.000000</td>\n",
       "      <td>0.000000</td>\n",
       "      <td>0.000109</td>\n",
       "      <td>19.928321</td>\n",
       "      <td>0.910221</td>\n",
       "    </tr>\n",
       "    <tr>\n",
       "      <td>??WXYZ</td>\n",
       "      <td>54</td>\n",
       "      <td>1</td>\n",
       "      <td>0</td>\n",
       "      <td>54.000000</td>\n",
       "      <td>0.000000</td>\n",
       "      <td>0.000109</td>\n",
       "      <td>14.928321</td>\n",
       "      <td>-22.587066</td>\n",
       "    </tr>\n",
       "    <tr>\n",
       "      <td>??WYYZ</td>\n",
       "      <td>0</td>\n",
       "      <td>0</td>\n",
       "      <td>0</td>\n",
       "      <td>NaN</td>\n",
       "      <td>NaN</td>\n",
       "      <td>0.000000</td>\n",
       "      <td>15.678321</td>\n",
       "      <td>-18.552548</td>\n",
       "    </tr>\n",
       "    <tr>\n",
       "      <td>??XYYZ</td>\n",
       "      <td>0</td>\n",
       "      <td>0</td>\n",
       "      <td>0</td>\n",
       "      <td>NaN</td>\n",
       "      <td>NaN</td>\n",
       "      <td>0.000000</td>\n",
       "      <td>14.833083</td>\n",
       "      <td>-24.823542</td>\n",
       "    </tr>\n",
       "  </tbody>\n",
       "</table>\n",
       "<p>914624 rows × 8 columns</p>\n",
       "</div>"
      ],
      "text/plain": [
       "            points     count  bingo_count       mean  bingo pct          pct  \\\n",
       "?        782820960  13841229      7322671  56.557186  52.904775  1513.324492   \n",
       "A       2005089326  49868572     10037371  40.207474  20.127649  5452.357690   \n",
       "B        461839888  12390310      1601088  37.274280  12.922098  1354.688921   \n",
       "C        576503825  14491423      2644552  39.782416  18.249084  1584.413158   \n",
       "D       1012212785  25452930      4829723  39.768026  18.975116  2782.884551   \n",
       "...            ...       ...          ...        ...        ...          ...   \n",
       "??WXYY           0         0            0        NaN        NaN     0.000000   \n",
       "?WXYYZ          59         1            0  59.000000   0.000000     0.000109   \n",
       "??WXYZ          54         1            0  54.000000   0.000000     0.000109   \n",
       "??WYYZ           0         0            0        NaN        NaN     0.000000   \n",
       "??XYYZ           0         0            0        NaN        NaN     0.000000   \n",
       "\n",
       "               ev    synergy  \n",
       "?       17.485506   0.000000  \n",
       "A        1.135795   0.000000  \n",
       "B       -1.797399   0.000000  \n",
       "C        0.710737   0.000000  \n",
       "D        0.696347   0.000000  \n",
       "...           ...        ...  \n",
       "??WXYY   7.466782 -24.600389  \n",
       "?WXYYZ  19.928321   0.910221  \n",
       "??WXYZ  14.928321 -22.587066  \n",
       "??WYYZ  15.678321 -18.552548  \n",
       "??XYYZ  14.833083 -24.823542  \n",
       "\n",
       "[914624 rows x 8 columns]"
      ]
     },
     "execution_count": 22,
     "metadata": {},
     "output_type": "execute_result"
    }
   ],
   "source": [
    "ev_df"
   ]
  },
  {
   "cell_type": "markdown",
   "metadata": {},
   "source": [
    "Save superleaves to an external file"
   ]
  },
  {
   "cell_type": "code",
   "execution_count": 23,
   "metadata": {},
   "outputs": [
    {
     "data": {
      "text/plain": [
       "?         17.485506\n",
       "A          1.135795\n",
       "B         -1.797399\n",
       "C          0.710737\n",
       "D          0.696347\n",
       "            ...    \n",
       "??WXYY     7.466782\n",
       "?WXYYZ    19.928321\n",
       "??WXYZ    14.928321\n",
       "??WYYZ    15.678321\n",
       "??XYYZ    14.833083\n",
       "Name: ev, Length: 914624, dtype: float64"
      ]
     },
     "execution_count": 23,
     "metadata": {},
     "output_type": "execute_result"
    }
   ],
   "source": [
    "ev_df['ev']"
   ]
  },
  {
   "cell_type": "code",
   "execution_count": 24,
   "metadata": {},
   "outputs": [
    {
     "name": "stderr",
     "output_type": "stream",
     "text": [
      "/opt/anaconda3/lib/python3.7/site-packages/ipykernel_launcher.py:1: FutureWarning: The signature of `Series.to_csv` was aligned to that of `DataFrame.to_csv`, and argument 'header' will change its default value from False to True: please pass an explicit value to suppress this warning.\n",
      "  \"\"\"Entry point for launching an IPython kernel.\n"
     ]
    }
   ],
   "source": [
    "ev_df['ev'].to_csv('leave_values_' + todays_date + '.csv', index=False)\n",
    "ev_df.to_csv('leave_summary_' + todays_date + '.csv', index=False)"
   ]
  },
  {
   "cell_type": "code",
   "execution_count": null,
   "metadata": {},
   "outputs": [],
   "source": []
  }
 ],
 "metadata": {
  "kernelspec": {
   "display_name": "Python 3",
   "language": "python",
   "name": "python3"
  },
  "language_info": {
   "codemirror_mode": {
    "name": "ipython",
    "version": 3
   },
   "file_extension": ".py",
   "mimetype": "text/x-python",
   "name": "python",
   "nbconvert_exporter": "python",
   "pygments_lexer": "ipython3",
   "version": "3.7.4"
  }
 },
 "nbformat": 4,
 "nbformat_minor": 4
}
